{
  "nbformat": 4,
  "nbformat_minor": 0,
  "metadata": {
    "colab": {
      "name": "ch5_exercises_py17.ipynb",
      "provenance": [],
      "collapsed_sections": [],
      "authorship_tag": "ABX9TyOWQwQCHgowxxlSL3OnZqGE",
      "include_colab_link": true
    },
    "kernelspec": {
      "name": "python3",
      "display_name": "Python 3"
    }
  },
  "cells": [
    {
      "cell_type": "markdown",
      "metadata": {
        "id": "view-in-github",
        "colab_type": "text"
      },
      "source": [
        "<a href=\"https://colab.research.google.com/github/Oh-HyunYoung/py17/blob/master/notebook/ch5_exercises_py17.ipynb\" target=\"_parent\"><img src=\"https://colab.research.google.com/assets/colab-badge.svg\" alt=\"Open In Colab\"/></a>"
      ]
    },
    {
      "cell_type": "markdown",
      "metadata": {
        "id": "SYcv9gDCA4U8",
        "colab_type": "text"
      },
      "source": [
        "## ch5_exercises_py17.ipynb"
      ]
    },
    {
      "cell_type": "markdown",
      "metadata": {
        "id": "leIMtWatA-d_",
        "colab_type": "text"
      },
      "source": [
        "## Q1.\n",
        "> 다음은 Calculator 클래스이다.\n",
        "\n",
        "```\n",
        "class Calculator:\n",
        "    def __init__(self):\n",
        "        self.value = 0\n",
        "\n",
        "    def add(self, val):\n",
        "        self.value += val\n",
        "```\n",
        "---\n",
        "> 위 클래스를 상속하는 UpgradeCalculator를 만들고 값을 뺄 수 있는 minus 메서드를 추가해 보자. \n",
        ">> 즉 다음과 같이 동작하는 클래스를 만들어야 한다.\n",
        "```\n",
        "cal = UpgradeCalculator()\n",
        "cal.add(10)\n",
        "cal.minus(7)\n",
        "print(cal.value) # 10에서 7을 뺀 3을 출력\n",
        "```\n"
      ]
    },
    {
      "cell_type": "code",
      "metadata": {
        "id": "oDc2nYMzBAzY",
        "colab_type": "code",
        "colab": {
          "base_uri": "https://localhost:8080/",
          "height": 35
        },
        "outputId": "62c7b617-770a-4139-cb64-7e3a4be01c10"
      },
      "source": [
        "# [Q1] Code  \n",
        "class Calculator:\n",
        "    def __init__(self):\n",
        "        self.value = 0\n",
        " \n",
        "    def add(self, val):\n",
        "        self.value += val\n",
        "\n",
        "class UpgradeCalculator(Calculator):\n",
        "  def minus(self,val):\n",
        "    self.value -= val # 나온 값에서 minus를 빼줌.\n",
        "\n",
        "cal = UpgradeCalculator()\n",
        "cal.add(10)\n",
        "cal.minus(7)\n",
        "print(cal.value) # 10에서 7을 뺀 3을 출력"
      ],
      "execution_count": 3,
      "outputs": [
        {
          "output_type": "stream",
          "text": [
            "3\n"
          ],
          "name": "stdout"
        }
      ]
    },
    {
      "cell_type": "markdown",
      "metadata": {
        "id": "YWGN-HNyBHoe",
        "colab_type": "text"
      },
      "source": [
        "## Q2.\n",
        "> 객체변수 value가 100 이상의 값은 가질 수 없도록 제한하는 MaxLimitCalculator 클래스를 만들어 보자. \n",
        ">> 즉 다음과 같이 동작해야 한다.\n",
        "```\n",
        "cal = MaxLimitCalculator()\n",
        "cal.add(50) # 50 더하기\n",
        "cal.add(60) # 60 더하기\n",
        "print(cal.value) # 100 출력\n",
        "```\n",
        ">> 단 반드시 다음과 같은 Calculator 클래스를 상속해서 만들어야 한다.\n",
        "```\n",
        "class Calculator:\n",
        "    def __init__(self):\n",
        "        self.value = 0\n",
        "    def add(self, val):\n",
        "        self.value += val\n",
        "```"
      ]
    },
    {
      "cell_type": "code",
      "metadata": {
        "id": "DERKvgOzBK2e",
        "colab_type": "code",
        "colab": {
          "base_uri": "https://localhost:8080/",
          "height": 35
        },
        "outputId": "4ffd4f58-a848-4bd7-c273-6e7f6b3b00c7"
      },
      "source": [
        "# [Q2] Code\n",
        "class Calculator:\n",
        "    def __init__(self):\n",
        "        self.value = 0\n",
        "    def add(self, val):\n",
        "        self.value += val\n",
        "\n",
        "class MaxLimitCalculator(Calculator):\n",
        "  def add(self, val):\n",
        "    self.value += val # 나온 값을 더해준다.\n",
        "    if self.value > 100: # 만약 value의 값이 100보다 크다면\n",
        "      self.value = 100 # value의 값은 100이다.\n",
        "\n",
        "cal = MaxLimitCalculator()\n",
        "cal.add(50) # 50 더하기\n",
        "cal.add(60) # 60 더하기\n",
        "print(cal.value) # 100 출력, MaxlimitCalculator의 클래스에서 100을 넘는다면 100으로 숫자가 만들어지게 고정.\n"
      ],
      "execution_count": 11,
      "outputs": [
        {
          "output_type": "stream",
          "text": [
            "100\n"
          ],
          "name": "stdout"
        }
      ]
    },
    {
      "cell_type": "markdown",
      "metadata": {
        "id": "eGIg0NYZBNtT",
        "colab_type": "text"
      },
      "source": [
        "## Q3.\n",
        "> 다음 결과를 예측해 보자.\n",
        "\n",
        "- 하나.\n",
        "```\n",
        "all([1, 2, abs(-3)-3])\n",
        "```\n",
        "\n",
        "- 둘.\n",
        "```\n",
        "chr(ord('a')) == 'a'\n",
        "```"
      ]
    },
    {
      "cell_type": "code",
      "metadata": {
        "id": "G6C2dt1fBPrG",
        "colab_type": "code",
        "colab": {
          "base_uri": "https://localhost:8080/",
          "height": 35
        },
        "outputId": "99baa34c-926c-409f-8b00-7e330ef6256b"
      },
      "source": [
        "# [Q3] Code 1\n",
        "all([1, 2, abs(-3)-3])"
      ],
      "execution_count": 12,
      "outputs": [
        {
          "output_type": "execute_result",
          "data": {
            "text/plain": [
              "False"
            ]
          },
          "metadata": {
            "tags": []
          },
          "execution_count": 12
        }
      ]
    },
    {
      "cell_type": "code",
      "metadata": {
        "id": "ssJU-eFuBRAq",
        "colab_type": "code",
        "colab": {
          "base_uri": "https://localhost:8080/",
          "height": 35
        },
        "outputId": "590da2b6-7aac-45be-b9ea-5a8876c528bc"
      },
      "source": [
        "# [Q3] Code 2\n",
        "chr(ord('a')) == 'a'"
      ],
      "execution_count": 13,
      "outputs": [
        {
          "output_type": "execute_result",
          "data": {
            "text/plain": [
              "True"
            ]
          },
          "metadata": {
            "tags": []
          },
          "execution_count": 13
        }
      ]
    },
    {
      "cell_type": "markdown",
      "metadata": {
        "id": "SEKZGwThBS79",
        "colab_type": "text"
      },
      "source": [
        " - all([1, 2, abs(-3)-3])\n",
        " > abs(-3)은 절대값을 뜻하므로 3이되고, 그러면 all([1,2,0])이 된다.\n",
        " > 리스트 값 안에 0이 있으므로 False이 나온다. \n",
        "\n",
        " - chr(ord('a')) == 'a'\n",
        " > ord('a')의 값은 아스키 코드 값으로써 chr(97)의 값으로 치환된다.\n",
        " > 그래서 chr(97)의 값은 다시 'a'가 되므로 'a' == 'a'이므로 True가 나온다."
      ]
    },
    {
      "cell_type": "markdown",
      "metadata": {
        "id": "lDxDwFPUBVx2",
        "colab_type": "text"
      },
      "source": [
        "##Q4.\n",
        "filter와 lambda를 사용하여 리스트 [1, -2, 3, -5, 8, -3]에서 음수를 모두 제거해 보자."
      ]
    },
    {
      "cell_type": "code",
      "metadata": {
        "id": "bKrqfCRABXSi",
        "colab_type": "code",
        "colab": {
          "base_uri": "https://localhost:8080/",
          "height": 35
        },
        "outputId": "896748a6-d068-4b37-b528-eed025b73382"
      },
      "source": [
        "# [Q4] Code 1 - filter사용\n",
        "def positive(x):\n",
        "    return x > 0\n",
        "\n",
        "\n",
        "list(filter(positive,  [1, -2, 3, -5, 8, -3]))"
      ],
      "execution_count": 14,
      "outputs": [
        {
          "output_type": "execute_result",
          "data": {
            "text/plain": [
              "[1, 3, 8]"
            ]
          },
          "metadata": {
            "tags": []
          },
          "execution_count": 14
        }
      ]
    },
    {
      "cell_type": "code",
      "metadata": {
        "id": "pQxX8NpPBYw2",
        "colab_type": "code",
        "colab": {
          "base_uri": "https://localhost:8080/",
          "height": 35
        },
        "outputId": "b877e7db-2b05-4015-f12e-f02c5977ced4"
      },
      "source": [
        "# [Q4] Code 2 - lambda와 filter사용\n",
        "list(filter(lambda x: x > 0, [1, -2, 3, -5, 8, -3]))"
      ],
      "execution_count": 15,
      "outputs": [
        {
          "output_type": "execute_result",
          "data": {
            "text/plain": [
              "[1, 3, 8]"
            ]
          },
          "metadata": {
            "tags": []
          },
          "execution_count": 15
        }
      ]
    },
    {
      "cell_type": "markdown",
      "metadata": {
        "id": "U6diUmaYBbMh",
        "colab_type": "text"
      },
      "source": [
        "## Q5.\n",
        "> 234라는 10진수의 16진수는 다음과 같이 구할 수 있다.\n",
        "```\n",
        "hex(234)\n",
        "'0xea'\n",
        "```\n",
        "> 이번에는 반대로 16진수 문자열 0xea를 10진수로 변경해 보자.\n",
        ">>※ 내장 함수 int를 활용해 보자.\n"
      ]
    },
    {
      "cell_type": "code",
      "metadata": {
        "id": "mpLwrUQCBdGJ",
        "colab_type": "code",
        "colab": {
          "base_uri": "https://localhost:8080/",
          "height": 35
        },
        "outputId": "9a6bcbf7-ed3a-4152-a2ec-2fc8038ebdf0"
      },
      "source": [
        "# [Q5] Code\n",
        "int ('0xea', 16)"
      ],
      "execution_count": 16,
      "outputs": [
        {
          "output_type": "execute_result",
          "data": {
            "text/plain": [
              "234"
            ]
          },
          "metadata": {
            "tags": []
          },
          "execution_count": 16
        }
      ]
    },
    {
      "cell_type": "markdown",
      "metadata": {
        "id": "qnet19yuBezP",
        "colab_type": "text"
      },
      "source": [
        "## Q6.\n",
        "> map과 lambda를 사용하여 [1, 2, 3, 4] 리스트의 각 요솟값에 3이 곱해진 리스트 [3, 6, 9, 12]를 만들어 보자.\n"
      ]
    },
    {
      "cell_type": "code",
      "metadata": {
        "id": "_tHMFwaeBghw",
        "colab_type": "code",
        "colab": {
          "base_uri": "https://localhost:8080/",
          "height": 35
        },
        "outputId": "f82f795d-b653-43e9-ca95-d4e0dd3c0056"
      },
      "source": [
        "# [Q6] Code\n",
        "list(map(lambda a: a * 3, [1, 2, 3, 4])) # 리스트값 안에 3을 곱해줌"
      ],
      "execution_count": 17,
      "outputs": [
        {
          "output_type": "execute_result",
          "data": {
            "text/plain": [
              "[3, 6, 9, 12]"
            ]
          },
          "metadata": {
            "tags": []
          },
          "execution_count": 17
        }
      ]
    },
    {
      "cell_type": "markdown",
      "metadata": {
        "id": "kAIw7YIPBjVl",
        "colab_type": "text"
      },
      "source": [
        "## Q7.\n",
        "> 다음 리스트의 최댓값과 최솟값의 합을 구해 보자.\n",
        ">> [-8, 2, 7, 5, -3, 5, 0, 1]"
      ]
    },
    {
      "cell_type": "code",
      "metadata": {
        "id": "tLuor-XtB6Hi",
        "colab_type": "code",
        "colab": {
          "base_uri": "https://localhost:8080/",
          "height": 35
        },
        "outputId": "54ad05d8-d1be-4053-a7e4-8b0f9fae89a4"
      },
      "source": [
        "# [Q7] Code\n",
        "a = [-8, 2, 7, 5, -3, 5, 0, 1]\n",
        "\n",
        "max(a) + min(a) # 최댓값과 최솟값만 출력하는 함수."
      ],
      "execution_count": 18,
      "outputs": [
        {
          "output_type": "execute_result",
          "data": {
            "text/plain": [
              "-1"
            ]
          },
          "metadata": {
            "tags": []
          },
          "execution_count": 18
        }
      ]
    },
    {
      "cell_type": "markdown",
      "metadata": {
        "id": "u_ivbAscBm_5",
        "colab_type": "text"
      },
      "source": [
        "## Q8.\n",
        "> 17 / 3의 결과는 다음과 같다.\n",
        "```\n",
        "17 / 3\n",
        "5.666666666666667\n",
        "```\n",
        "> 위와 같은 결괏값 5.666666666666667을 소숫점 4자리까지만 반올림하여 표시해 보자."
      ]
    },
    {
      "cell_type": "code",
      "metadata": {
        "id": "EbqHDBH3B_76",
        "colab_type": "code",
        "colab": {
          "base_uri": "https://localhost:8080/",
          "height": 35
        },
        "outputId": "3dbac569-c877-4c2a-8d59-a4488b29e30c"
      },
      "source": [
        "# [Q8] Code1\n",
        "round (5.666666666666667,4) # 5.666666666666667에서 소숫점 4자리까지만 반올림하여 출력."
      ],
      "execution_count": 5,
      "outputs": [
        {
          "output_type": "execute_result",
          "data": {
            "text/plain": [
              "5.6667"
            ]
          },
          "metadata": {
            "tags": []
          },
          "execution_count": 5
        }
      ]
    },
    {
      "cell_type": "code",
      "metadata": {
        "id": "EQH6FV8dCBqD",
        "colab_type": "code",
        "colab": {
          "base_uri": "https://localhost:8080/",
          "height": 35
        },
        "outputId": "76273546-1950-4fde-f1e9-a9125970581f"
      },
      "source": [
        "# [Q8] Code2\n",
        "round (17/3, 4) # 17/3의 값에서 4자리까지만 반올림하여 출력."
      ],
      "execution_count": 6,
      "outputs": [
        {
          "output_type": "execute_result",
          "data": {
            "text/plain": [
              "5.6667"
            ]
          },
          "metadata": {
            "tags": []
          },
          "execution_count": 6
        }
      ]
    },
    {
      "cell_type": "markdown",
      "metadata": {
        "id": "bV5MpdblCHP5",
        "colab_type": "text"
      },
      "source": [
        "## Q9.\n",
        "> 다음과 같이 실행할 때 입력값을 모두 더하여 출력하는 스크립트\n",
        "\n",
        "> (C:\\doit\\myargv.py)를 작성해 보자.\n",
        "```\n",
        "C:\\> cd doit\n",
        "C:\\doit> python myargv.py 1 2 3 4 5 6 7 8 9 10\n",
        "55\n",
        "```\n",
        ">> ※ 외장 함수 sys.argv를 사용해 보자."
      ]
    },
    {
      "cell_type": "code",
      "metadata": {
        "id": "gramqX0IC7BT",
        "colab_type": "code",
        "colab": {}
      },
      "source": [
        "# doit/myargs.py의 코드\n",
        "import sys  # sys모듈은 파이썬 인터프리터가 제공하는 변수와 함수를 직접 제어할 수 있게 해주는 모듈.\n",
        "\n",
        "numbers = sys.argv[1:]  # 파일 이름을 제외한 명령 행의 모든 입력을 변수에 저장.\n",
        "\n",
        "result = 0 # result라는 변수 출력.\n",
        "for number in numbers: # for 함수를 사용.\n",
        "    result += int(number) # int에서 받은 값을 다 더하여 result로 받음.\n",
        "\n",
        "print(result) # result에서 출력."
      ],
      "execution_count": 0,
      "outputs": []
    },
    {
      "cell_type": "code",
      "metadata": {
        "id": "pR7wyZ6h_qx5",
        "colab_type": "code",
        "colab": {
          "base_uri": "https://localhost:8080/",
          "height": 35
        },
        "outputId": "a5ac82eb-c46b-41d1-86af-ccf7f7550881"
      },
      "source": [
        "%run doit/myargv.py 1 2 3 4 5 6 7 8 9 10"
      ],
      "execution_count": 1,
      "outputs": [
        {
          "output_type": "stream",
          "text": [
            "55\n"
          ],
          "name": "stdout"
        }
      ]
    },
    {
      "cell_type": "markdown",
      "metadata": {
        "id": "iIQ_rRSqCKLs",
        "colab_type": "text"
      },
      "source": [
        "## Q10.\n",
        "> os 모듈을 사용하여 다음과 같이 동작하도록 코드를 작성해 보자.\n",
        "\n",
        "1. ./doit 디렉터리로 이동한다.\n",
        "2. dir 명령을 실행하고 그 결과를 변수에 담는다.\n",
        "3. dir 명령의 결과를 출력한다."
      ]
    },
    {
      "cell_type": "code",
      "metadata": {
        "id": "U-H1BsPaAvry",
        "colab_type": "code",
        "colab": {
          "base_uri": "https://localhost:8080/",
          "height": 54
        },
        "outputId": "2c7dc67a-7649-4923-e978-8835c2df0e21"
      },
      "source": [
        "# [Q10] Code\n",
        "import os   # 환경 변수나 디렉터리, 파일 등의 OS 자원을 제어할 수 있게 해주는 모듈.\n",
        "\n",
        "# 1. C:\\doit 디렉터리로 이동.\n",
        "os.chdir(\"doit\") # 디렉터리 위치 변경\n",
        "\n",
        "# 2. dir 명령을 실행하고 그 결과를 변수에 담음.\n",
        "result = os.popen(\"dir\")    # 시스템 명령어를 실행한 결과값을 파일 객체로 돌려줌.\n",
        "\n",
        "# 3. dir 명령의 결과를 출력함.\n",
        "print(result.read())"
      ],
      "execution_count": 2,
      "outputs": [
        {
          "output_type": "stream",
          "text": [
            "myargv.py\n",
            "\n"
          ],
          "name": "stdout"
        }
      ]
    },
    {
      "cell_type": "markdown",
      "metadata": {
        "id": "I28H6Sk5CNjx",
        "colab_type": "text"
      },
      "source": [
        "## Q11.\n",
        "> glob 모듈을 사용하여 ./doit 디렉터리의 파일 중 확장자가 .py인 파일만 출력하는 프로그램을 작성해 보자."
      ]
    },
    {
      "cell_type": "code",
      "metadata": {
        "id": "XcX6lnRyCO9U",
        "colab_type": "code",
        "colab": {
          "base_uri": "https://localhost:8080/",
          "height": 35
        },
        "outputId": "edb40d8a-94e8-4dba-893d-81d0336185e3"
      },
      "source": [
        "# [Q11] Code\n",
        "import glob\n",
        "glob.glob(\"doit/*.py\")"
      ],
      "execution_count": 30,
      "outputs": [
        {
          "output_type": "execute_result",
          "data": {
            "text/plain": [
              "[]"
            ]
          },
          "metadata": {
            "tags": []
          },
          "execution_count": 30
        }
      ]
    },
    {
      "cell_type": "markdown",
      "metadata": {
        "id": "wG7mL2BICgCL",
        "colab_type": "text"
      },
      "source": [
        "## Q12.\n",
        "> time 모듈을 사용하여 현재 날짜와 시간을 다음과 같은 형식으로 출력해 보자.\n",
        "\n",
        "- 2020/06/10 07:05:21"
      ]
    },
    {
      "cell_type": "code",
      "metadata": {
        "id": "Oae3G4VYCiTk",
        "colab_type": "code",
        "colab": {
          "base_uri": "https://localhost:8080/",
          "height": 35
        },
        "outputId": "6c00dcae-3a82-4d91-a1a7-d13fbb3e3846"
      },
      "source": [
        "#[Q12] Code\n",
        "import time\n",
        "time.strftime(\"%Y/%m/%d %H:%M:%S\") # %Y:년, %m:월, %d:일, %H:시, %M:분, %S:초"
      ],
      "execution_count": 21,
      "outputs": [
        {
          "output_type": "execute_result",
          "data": {
            "text/plain": [
              "'2020/06/10 07:05:21'"
            ]
          },
          "metadata": {
            "tags": []
          },
          "execution_count": 21
        }
      ]
    },
    {
      "cell_type": "markdown",
      "metadata": {
        "id": "KzyMvFyjCkog",
        "colab_type": "text"
      },
      "source": [
        "## Q13.\n",
        "> random 모듈을 사용하여 로또 번호(1~45 사이의 숫자 6개)를 생성해 보자(단 중복된 숫자가 있으면 안 됨)."
      ]
    },
    {
      "cell_type": "code",
      "metadata": {
        "id": "hQlU4VJrCmNs",
        "colab_type": "code",
        "colab": {
          "base_uri": "https://localhost:8080/",
          "height": 35
        },
        "outputId": "cfde8e18-1e4b-4d9b-e856-515b4c2897c5"
      },
      "source": [
        "# [Q13] Code1\n",
        "import random\n",
        "\n",
        "result = []\n",
        "\n",
        "for i in range(0, 6):\n",
        "\n",
        "    num = random.randint(1, 45) # 1~ 45까지의 난수 생성 후 num에 저장\n",
        "    if num not in result:    # 중복 숫자 방지\n",
        "        result.append(num)   # append()함수로 리스트 문자열에 차례로 추가\n",
        "\n",
        "print(result)"
      ],
      "execution_count": 22,
      "outputs": [
        {
          "output_type": "stream",
          "text": [
            "[16, 14, 8, 4, 22, 43]\n"
          ],
          "name": "stdout"
        }
      ]
    },
    {
      "cell_type": "code",
      "metadata": {
        "id": "gS9Z_CQrCoev",
        "colab_type": "code",
        "colab": {
          "base_uri": "https://localhost:8080/",
          "height": 35
        },
        "outputId": "8dd0bb28-394f-49a0-b7ee-54004718e322"
      },
      "source": [
        "# [Q13] Code2\n",
        "\n",
        "result = []\n",
        "while len(result) < 6: # 결과값의 길이가 6개 이하이다. (0,1,2,3,4,5)\n",
        "  num = random.randint(1,45) # 1~ 45까지의 난수 생성 후 num에 저장\n",
        "  if num not in result: # 중복 숫자 방지\n",
        "    result.append(num)  # append()함수로 리스트 문자열에 차례로 추가\n",
        "\n",
        "print(result)"
      ],
      "execution_count": 23,
      "outputs": [
        {
          "output_type": "stream",
          "text": [
            "[19, 7, 20, 28, 38, 39]\n"
          ],
          "name": "stdout"
        }
      ]
    },
    {
      "cell_type": "markdown",
      "metadata": {
        "id": "LdoSklHOCqbD",
        "colab_type": "text"
      },
      "source": [
        "## 코딩 연습 결과를 github에 올리기\n",
        "> 완성된 ipython 노트북 파일을 각자의 github에 올리시오.\n",
        "\n",
        "- github 계정 만들기 (계정이 없는 학생)\n",
        "    1. github에 sign up (Google gmail 계정을 이용해서 만드시오.)\n",
        "- github에 노트 올리기\n",
        "    2. github에 각자의 id로 repo를 만드시오. (한번 만들면 계속 재사용)\n",
        "    3. github repo에 연습결과 노트를 올리시오.\n",
        "        - 제출노트: ch5_exercises_id.ipynb"
      ]
    }
  ]
}