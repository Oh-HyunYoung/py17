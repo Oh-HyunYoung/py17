{
  "nbformat": 4,
  "nbformat_minor": 0,
  "metadata": {
    "colab": {
      "name": "mid_exam_py17.ipynb",
      "provenance": [],
      "collapsed_sections": [],
      "authorship_tag": "ABX9TyNhP5NzNajeZAJDrUH/ookg",
      "include_colab_link": true
    },
    "kernelspec": {
      "name": "python3",
      "display_name": "Python 3"
    }
  },
  "cells": [
    {
      "cell_type": "markdown",
      "metadata": {
        "id": "view-in-github",
        "colab_type": "text"
      },
      "source": [
        "<a href=\"https://colab.research.google.com/github/Oh-HyunYoung/py17/blob/master/notebook/mid_exam_py17.ipynb\" target=\"_parent\"><img src=\"https://colab.research.google.com/assets/colab-badge.svg\" alt=\"Open In Colab\"/></a>"
      ]
    },
    {
      "cell_type": "markdown",
      "metadata": {
        "id": "stMQWpK3dDUy",
        "colab_type": "text"
      },
      "source": [
        "## 파이썬 활용 중간고사 풀이"
      ]
    },
    {
      "cell_type": "markdown",
      "metadata": {
        "id": "_1sT_XZadJpH",
        "colab_type": "text"
      },
      "source": [
        "### 문제 1. 다음 식의 연산 결과는?\n",
        "- a = 5\n",
        "- b = 3\n",
        "- a**b\n"
      ]
    },
    {
      "cell_type": "code",
      "metadata": {
        "id": "T1UhP10Pc3l0",
        "colab_type": "code",
        "outputId": "7a459a92-8e96-4bbf-aa08-63d8502e4d79",
        "colab": {
          "base_uri": "https://localhost:8080/",
          "height": 35
        }
      },
      "source": [
        "a = 5\n",
        "b = 3\n",
        "a**b # **은 제곱을 뜻함. 그러므로 125 출력"
      ],
      "execution_count": 0,
      "outputs": [
        {
          "output_type": "execute_result",
          "data": {
            "text/plain": [
              "125"
            ]
          },
          "metadata": {
            "tags": []
          },
          "execution_count": 1
        }
      ]
    },
    {
      "cell_type": "markdown",
      "metadata": {
        "id": "StoTDvobf7eZ",
        "colab_type": "text"
      },
      "source": [
        "### 문제 2. 다음 문자열 a에 대하여 슬라이싱을 한 결과는?\n",
        "- a = \"Life is too short, You need Python!\"\n",
        "- a[-16:-8]"
      ]
    },
    {
      "cell_type": "code",
      "metadata": {
        "id": "brJ_urp-gUNv",
        "colab_type": "code",
        "outputId": "e27ce1a7-535a-4f6b-c97f-97611227ed80",
        "colab": {
          "base_uri": "https://localhost:8080/",
          "height": 35
        }
      },
      "source": [
        "a = \"Life is too short, You need Python!\"\n",
        "a[-16:-8] # -16은 Y부터를 뜻하고, :-8은 d까지를 뜻한다. 그러므로 You need 출력"
      ],
      "execution_count": 0,
      "outputs": [
        {
          "output_type": "execute_result",
          "data": {
            "text/plain": [
              "'You need'"
            ]
          },
          "metadata": {
            "tags": []
          },
          "execution_count": 1
        }
      ]
    },
    {
      "cell_type": "markdown",
      "metadata": {
        "id": "i8tL0-XXgcQy",
        "colab_type": "text"
      },
      "source": [
        "### 문제 3. 다음 list a의 인덱싱 결과는?\n",
        "- a = [1, 2, (3, 4), ['a' ,'b', [ 'My', 'Life', 'Good' ]]]\n",
        "- a [3][-1][0]"
      ]
    },
    {
      "cell_type": "code",
      "metadata": {
        "id": "pYF7z4-mg5Uc",
        "colab_type": "code",
        "outputId": "f15b211f-0275-4cdd-f407-023862cdd369",
        "colab": {
          "base_uri": "https://localhost:8080/",
          "height": 35
        }
      },
      "source": [
        "a = [1, 2, (3, 4), ['a' ,'b', [ 'My', 'Life', 'Good' ]]]\n",
        "a [3][-1][0] #(),[]로 묶여진 것은 각각이 아닌 하나로 세고 3은 ['a' ,'b', ['My', 'Life', 'Good']],여기서 -1은 ['My', 'Life', 'Good']이 범위이다. 그리고 0은 첫번째인 My를 뜻한다."
      ],
      "execution_count": 0,
      "outputs": [
        {
          "output_type": "execute_result",
          "data": {
            "text/plain": [
              "'My'"
            ]
          },
          "metadata": {
            "tags": []
          },
          "execution_count": 2
        }
      ]
    },
    {
      "cell_type": "markdown",
      "metadata": {
        "id": "btjHioDVg5uX",
        "colab_type": "text"
      },
      "source": [
        "### 문제 4. 다음 tuple t1의 슬라이싱 결과는?\n",
        "- t1 = (0, 1, \"s\", \"t\", \"u\")\n",
        "- t1 [2:-2]"
      ]
    },
    {
      "cell_type": "code",
      "metadata": {
        "id": "qC2sNASfheep",
        "colab_type": "code",
        "outputId": "4382b196-14f2-4543-99e9-ce2d4341d7ff",
        "colab": {
          "base_uri": "https://localhost:8080/",
          "height": 35
        }
      },
      "source": [
        "t1 = (0, 1, \"s\", \"t\", \"u\")\n",
        "t1 [2:-2] # tuple을 사용할 때에는 ,를 붙여주어야한다. 그리고 2는 \"s\"를 뜻하고 -2는 \"t\"의 뒷부분을 뜻한다. 그래서 's',가 출력된다."
      ],
      "execution_count": 0,
      "outputs": [
        {
          "output_type": "execute_result",
          "data": {
            "text/plain": [
              "('s',)"
            ]
          },
          "metadata": {
            "tags": []
          },
          "execution_count": 3
        }
      ]
    },
    {
      "cell_type": "markdown",
      "metadata": {
        "id": "PGAszf1ThmNt",
        "colab_type": "text"
      },
      "source": [
        "### 문제 5. 다음 bool 값 출력 중 정확한 것은?\n",
        "- bool([0, 1, 2]), bool([0]), bool((0)), bool((0,))"
      ]
    },
    {
      "cell_type": "code",
      "metadata": {
        "id": "0c58nSD1h-IV",
        "colab_type": "code",
        "outputId": "8f852e5f-b839-46d4-f806-99cfe82850e9",
        "colab": {
          "base_uri": "https://localhost:8080/",
          "height": 35
        }
      },
      "source": [
        "bool([0, 1, 2]), bool([0]), bool((0)), bool((0,)) \n",
        "# 첫번째와 두번째는 []안에 값이 들어있기 때문에 True이고, 세번째는 ()안에 빈 문자열이기 때문에 False, 마지막은 0,가 있어 빈 문자열이 아니므로 True가 나온다."
      ],
      "execution_count": 0,
      "outputs": [
        {
          "output_type": "execute_result",
          "data": {
            "text/plain": [
              "(True, True, False, True)"
            ]
          },
          "metadata": {
            "tags": []
          },
          "execution_count": 4
        }
      ]
    },
    {
      "cell_type": "markdown",
      "metadata": {
        "id": "du3N6-bZiq4d",
        "colab_type": "text"
      },
      "source": [
        "### 문제 6. 다음 조건문을 1줄 코드로 변경하시오.\n",
        "- score = 80\n",
        "- if score >= 60:\n",
        "- message = \"success\"\n",
        "- else:\n",
        "- message = \"failure\""
      ]
    },
    {
      "cell_type": "code",
      "metadata": {
        "id": "2mMc-Cs2jSXi",
        "colab_type": "code",
        "colab": {}
      },
      "source": [
        "score = 80\n",
        "message = \"success\" if score >= 60 else \"failure\" \n",
        "# 위의 조건을 한줄로 바꾸면 score가 60이상이면 success, 아니면 failure이라는 뜻이다."
      ],
      "execution_count": 0,
      "outputs": []
    },
    {
      "cell_type": "markdown",
      "metadata": {
        "id": "VpuXFKzTh-ch",
        "colab_type": "text"
      },
      "source": [
        "### 문제 7. 다음 코드의 실행 결과는?\n",
        "- games = [\"A\", \"B\", \"C\"]\n",
        "- for cnt in range (len (games)):\n",
        "- print(cnt, games [cnt], end = ' , ')"
      ]
    },
    {
      "cell_type": "code",
      "metadata": {
        "id": "amwrQZZpjibe",
        "colab_type": "code",
        "outputId": "c9e4bd9d-212a-4be2-a1f0-a368fcedfac0",
        "colab": {
          "base_uri": "https://localhost:8080/",
          "height": 35
        }
      },
      "source": [
        "games = [\"A\", \"B\", \"C\"]\n",
        "for cnt in range (len (games)): # games의 길이를 숫자로 cnt에 대입한다.\n",
        "  print(cnt, games [cnt], end = ',') \n",
        "  # cnt(길이)숫자 0부터 2까지를 출력하는데 사이에 games문자를 넣어줘야함. 그리고 end 에는 ,를 붙여야함"
      ],
      "execution_count": 0,
      "outputs": [
        {
          "output_type": "stream",
          "text": [
            "0 A,1 B,2 C,"
          ],
          "name": "stdout"
        }
      ]
    },
    {
      "cell_type": "markdown",
      "metadata": {
        "id": "qlCxEWTTkGBb",
        "colab_type": "text"
      },
      "source": [
        "### 문제 8. 다음의 결과가 출력되지 않는 것은? 'I ate 10 apples. so I was sick for three days.'\n",
        "# code start\n",
        "- number = 10\n",
        "- day = \"three\"\n",
        "1. \"I ate {0} apples. so I was sick for {1} days.\". format(10, day)\n",
        "2. f\"l ate {number} apples. so I was sick for{'three'} days.\"\n",
        "3. f\"l ate {number} apples. so I was sick for{'day'} days.\"\n",
        "4. \"I ate {0} apples. so I was sick for {1} days.\". format(number = 10, day)\n"
      ]
    },
    {
      "cell_type": "code",
      "metadata": {
        "id": "zyuOk4Rgl2cd",
        "colab_type": "code",
        "outputId": "25994dd5-ebdf-490e-ad72-7f05e251e3d3",
        "colab": {
          "base_uri": "https://localhost:8080/",
          "height": 136
        }
      },
      "source": [
        "number = 10\n",
        "day = \"three\"\n",
        "\n",
        "# \"I ate {0} apples. so I was sick for {1} days.\". format(10, day)\n",
        "# f\"l ate {number} apples. so I was sick for{'three'} days.\"\n",
        "# f\"l ate {number} apples. so I was sick for{'day'} days.\"\n",
        "\"I ate {0} apples. so I was sick for {1} days.\". format(number = 10, day) \n",
        "# Keyword argument를 사용해서 SystaxError가 발생하는 틀린 사용법이며 매개변수 사용을 잘못함. number을 지우고 (10, day)로 작성해야함."
      ],
      "execution_count": 0,
      "outputs": [
        {
          "output_type": "error",
          "ename": "SyntaxError",
          "evalue": "ignored",
          "traceback": [
            "\u001b[0;36m  File \u001b[0;32m\"<ipython-input-18-a710a0f9c539>\"\u001b[0;36m, line \u001b[0;32m7\u001b[0m\n\u001b[0;31m    \"I ate {0} apples. so I was sick for {1} days.\". format(number = 10, day)\u001b[0m\n\u001b[0m                                                                        ^\u001b[0m\n\u001b[0;31mSyntaxError\u001b[0m\u001b[0;31m:\u001b[0m positional argument follows keyword argument\n"
          ]
        }
      ]
    },
    {
      "cell_type": "markdown",
      "metadata": {
        "id": "YZ6C5F9Xl6cZ",
        "colab_type": "text"
      },
      "source": [
        "### 문제 9. 리스트 내포를 사용해 1부터 1000이하의 자연수 중 5의 배수의 합을 구하는 한 줄 코드를 작성하시오.\n",
        "5 + 10 + 15 + 20 + ... + 970 + 975 + ... + 995 + 1000 =?"
      ]
    },
    {
      "cell_type": "code",
      "metadata": {
        "id": "TqzAVYJ6mfxP",
        "colab_type": "code",
        "colab": {}
      },
      "source": [
        "sum([num for num in range(1, 1001) if num % 5 == 0])\n",
        "# sum 함수는 값을 더해주고, if문 먼저 보면 5로 나눠지는 함수 즉 5의 배수를 출력해야한다. 1과 1000의 범위 안에서 출력하는 것을 뜻한다."
      ],
      "execution_count": 0,
      "outputs": []
    },
    {
      "cell_type": "markdown",
      "metadata": {
        "id": "Joau1T08mrEt",
        "colab_type": "text"
      },
      "source": [
        "### 문제 10. 4개 과목의 평균 성적을 구하시오. [a],[b]에 적합한 코드는?\n",
        "- subjects = ['python', 'english', 'math', 'science']\n",
        "- scores = [88, 77, 66, 95]\n",
        "- total = 0\n",
        "\n",
        "- for subject, score in [a], _____(subjects, scores):\n",
        "-    total += score\n",
        "-    print(subject, score)\n",
        "    \n",
        "- print(\"평균 성적 = {0}\".format([b],_______))"
      ]
    },
    {
      "cell_type": "code",
      "metadata": {
        "id": "IJ2fpFt3n8Wj",
        "colab_type": "code",
        "colab": {}
      },
      "source": [
        "zip, total/len(subjects)\n",
        "# zip은 객체에 지정된 주소값을 출력을 하고, total/len(subjects)는 더해진 값에 subjects의 수를 나누는 것이므로 평균이 구해진다."
      ],
      "execution_count": 0,
      "outputs": []
    }
  ]
}