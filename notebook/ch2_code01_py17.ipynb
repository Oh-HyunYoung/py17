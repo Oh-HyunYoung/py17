{
  "nbformat": 4,
  "nbformat_minor": 0,
  "metadata": {
    "colab": {
      "name": "ch2_code01_py17.ipynb",
      "provenance": [],
      "collapsed_sections": []
    },
    "kernelspec": {
      "name": "python3",
      "display_name": "Python 3"
    }
  },
  "cells": [
    {
      "cell_type": "markdown",
      "metadata": {
        "id": "H4jNE-BMAK3f",
        "colab_type": "text"
      },
      "source": [
        "# ch2_code01_py17.ipynb\n",
        "## py17\n"
      ]
    },
    {
      "cell_type": "code",
      "metadata": {
        "id": "hTRRKc56En6p",
        "colab_type": "code",
        "outputId": "1fcd9247-313a-4ed8-b75e-691d9f565a96",
        "colab": {
          "base_uri": "https://localhost:8080/",
          "height": 55
        }
      },
      "source": [
        "# ch2_01_numeric.py\n",
        "#\n",
        "print(\"숫자형: 정수\") # 동적타이핑 (Dynamic typing)\n",
        "a = 123\n",
        "a = -178\n",
        "# a = 0\n",
        "# a\n",
        "print(a)"
      ],
      "execution_count": 0,
      "outputs": [
        {
          "output_type": "stream",
          "text": [
            "숫자형: 정수\n",
            "-178\n"
          ],
          "name": "stdout"
        }
      ]
    },
    {
      "cell_type": "code",
      "metadata": {
        "id": "gkF9867fE0Rc",
        "colab_type": "code",
        "outputId": "99ede300-3712-4f28-883a-e4e35181d102",
        "colab": {
          "base_uri": "https://localhost:8080/",
          "height": 55
        }
      },
      "source": [
        "a1 = 123\n",
        "a2 = -178\n",
        "a3 = 0\n",
        "print(a1,a2,a3)\n",
        "a"
      ],
      "execution_count": 0,
      "outputs": [
        {
          "output_type": "stream",
          "text": [
            "123 -178 0\n"
          ],
          "name": "stdout"
        },
        {
          "output_type": "execute_result",
          "data": {
            "text/plain": [
              "-178"
            ]
          },
          "metadata": {
            "tags": []
          },
          "execution_count": 7
        }
      ]
    },
    {
      "cell_type": "code",
      "metadata": {
        "id": "-zU2DwdvFmfR",
        "colab_type": "code",
        "outputId": "79e1bfd6-686e-48b8-f3eb-882dc1ccfa7c",
        "colab": {
          "base_uri": "https://localhost:8080/",
          "height": 36
        }
      },
      "source": [
        "print(\"a1 = \", a1)"
      ],
      "execution_count": 0,
      "outputs": [
        {
          "output_type": "stream",
          "text": [
            "a1 =  123\n"
          ],
          "name": "stdout"
        }
      ]
    },
    {
      "cell_type": "code",
      "metadata": {
        "id": "eDl6MeT4GHOF",
        "colab_type": "code",
        "outputId": "51ab1d9a-20a6-46f7-8530-a26caacb44fa",
        "colab": {
          "base_uri": "https://localhost:8080/",
          "height": 36
        }
      },
      "source": [
        "print(\"a1 = \", a1 ,\", a2 = \", a2, \", a3 = \", a3 )\n"
      ],
      "execution_count": 0,
      "outputs": [
        {
          "output_type": "stream",
          "text": [
            "a1 =  123 , a2 =  -178 , a3 =  0\n"
          ],
          "name": "stdout"
        }
      ]
    },
    {
      "cell_type": "markdown",
      "metadata": {
        "id": "PUzllf1vHRv1",
        "colab_type": "text"
      },
      "source": [
        "### 숫자형: 실수\n",
        "> 파이썬에서 실수를 표현해보자."
      ]
    },
    {
      "cell_type": "code",
      "metadata": {
        "id": "32YlUaSLDak_",
        "colab_type": "code",
        "outputId": "13e1d0fd-cb59-4328-b0c0-539e67986a5e",
        "colab": {
          "base_uri": "https://localhost:8080/",
          "height": 55
        }
      },
      "source": [
        "\n",
        "print(\"숫자형: 실수\")\n",
        "a1 = 1.2\n",
        "a2 = -3.48\n",
        "a3 = 4.24e10\n",
        "a4 = 4.24e-10\n",
        "a1,a2,a3,a4"
      ],
      "execution_count": 0,
      "outputs": [
        {
          "output_type": "stream",
          "text": [
            "숫자형: 실수\n"
          ],
          "name": "stdout"
        },
        {
          "output_type": "execute_result",
          "data": {
            "text/plain": [
              "(1.2, -3.48, 42400000000.0, 4.24e-10)"
            ]
          },
          "metadata": {
            "tags": []
          },
          "execution_count": 2
        }
      ]
    },
    {
      "cell_type": "code",
      "metadata": {
        "id": "QrG0xZPsHIaC",
        "colab_type": "code",
        "outputId": "5b8d0e8e-6a27-4972-9505-7d66f06292ee",
        "colab": {
          "base_uri": "https://localhost:8080/",
          "height": 92
        }
      },
      "source": [
        "\n",
        "print(\"숫자형: 8진수와 16진수\")\n",
        "a = 0o177\n",
        "print(a)\n",
        "a = 0x8FF  #Hexadecimal: 16진수, 0 ~ F\n",
        "print(a)\n",
        "a = 0xABC\n",
        "a"
      ],
      "execution_count": 0,
      "outputs": [
        {
          "output_type": "stream",
          "text": [
            "숫자형: 8진수와 16진수\n",
            "127\n",
            "2303\n"
          ],
          "name": "stdout"
        },
        {
          "output_type": "execute_result",
          "data": {
            "text/plain": [
              "2748"
            ]
          },
          "metadata": {
            "tags": []
          },
          "execution_count": 4
        }
      ]
    },
    {
      "cell_type": "markdown",
      "metadata": {
        "id": "4exJO7urIxb1",
        "colab_type": "text"
      },
      "source": [
        "### 숫자형: 연산자와 연산"
      ]
    },
    {
      "cell_type": "code",
      "metadata": {
        "id": "v0w8go8IHvNg",
        "colab_type": "code",
        "outputId": "9febd1e9-b6b3-460e-d568-00c6c7ba110c",
        "colab": {
          "base_uri": "https://localhost:8080/",
          "height": 111
        }
      },
      "source": [
        "print(\"숫자형: 연산자와 연산\")\n",
        "a = 3\n",
        "b = 4\n",
        "print(a + b)\n",
        "print(a - b)\n",
        "print(a * b)\n",
        "print(a / b)"
      ],
      "execution_count": 0,
      "outputs": [
        {
          "output_type": "stream",
          "text": [
            "숫자형: 연산자와 연산\n",
            "7\n",
            "-1\n",
            "12\n",
            "0.75\n"
          ],
          "name": "stdout"
        }
      ]
    },
    {
      "cell_type": "code",
      "metadata": {
        "id": "BZ0dOWqEJhTy",
        "colab_type": "code",
        "outputId": "e0c83172-7720-4c8e-ef89-95ffd020d4f7",
        "colab": {
          "base_uri": "https://localhost:8080/",
          "height": 92
        }
      },
      "source": [
        "print(a ** b)\n",
        "print(a % b)\n",
        "print(b % a)\n",
        "a // b\n"
      ],
      "execution_count": 0,
      "outputs": [
        {
          "output_type": "stream",
          "text": [
            "81\n",
            "3\n",
            "1\n",
            "0\n"
          ],
          "name": "stdout"
        }
      ]
    },
    {
      "cell_type": "code",
      "metadata": {
        "id": "PFZPHQk9KBVF",
        "colab_type": "code",
        "outputId": "d9ede5d8-0641-4c32-aeda-ef5d4d69e626",
        "colab": {
          "base_uri": "https://localhost:8080/",
          "height": 36
        }
      },
      "source": [
        "14 // 3 , 14 % 3\n"
      ],
      "execution_count": 0,
      "outputs": [
        {
          "output_type": "execute_result",
          "data": {
            "text/plain": [
              "(4, 2)"
            ]
          },
          "metadata": {
            "tags": []
          },
          "execution_count": 11
        }
      ]
    },
    {
      "cell_type": "markdown",
      "metadata": {
        "id": "cOjkqhCpM3oB",
        "colab_type": "text"
      },
      "source": [
        "## 문자열 정의와 출력"
      ]
    },
    {
      "cell_type": "code",
      "metadata": {
        "id": "dRkzQjiyEnq7",
        "colab_type": "code",
        "colab": {
          "base_uri": "https://localhost:8080/",
          "height": 55
        },
        "outputId": "9e8a8f90-7250-4678-9795-7a338d9b0a84"
      },
      "source": [
        "# ch2_02_string.py\n",
        "# \"Life is too short, you need python\"\n",
        "# 'Life is too short, you need python'\n",
        "# \"\"\"Life is too short, you need python\"\"\"\n",
        "# '''Life is too short, you need python'''\n",
        "\n",
        "\n",
        "print(\"문자열: '\")\n",
        "food = \"Python's favorite food is perl\"\n",
        "food\n"
      ],
      "execution_count": 1,
      "outputs": [
        {
          "output_type": "stream",
          "text": [
            "문자열: '\n"
          ],
          "name": "stdout"
        },
        {
          "output_type": "execute_result",
          "data": {
            "text/plain": [
              "\"Python's favorite food is perl\""
            ]
          },
          "metadata": {
            "tags": []
          },
          "execution_count": 1
        }
      ]
    },
    {
      "cell_type": "code",
      "metadata": {
        "id": "3qNCS8znNabJ",
        "colab_type": "code",
        "colab": {
          "base_uri": "https://localhost:8080/",
          "height": 139
        },
        "outputId": "e593f417-1f78-4ac9-d984-3e574269e0d2"
      },
      "source": [
        "\n",
        "food = 'Python's favorite food is perl'  # Error\n"
      ],
      "execution_count": 2,
      "outputs": [
        {
          "output_type": "error",
          "ename": "SyntaxError",
          "evalue": "ignored",
          "traceback": [
            "\u001b[0;36m  File \u001b[0;32m\"<ipython-input-2-34120456e536>\"\u001b[0;36m, line \u001b[0;32m2\u001b[0m\n\u001b[0;31m    food = 'Python's favorite food is perl'  # Error\u001b[0m\n\u001b[0m                   ^\u001b[0m\n\u001b[0;31mSyntaxError\u001b[0m\u001b[0;31m:\u001b[0m invalid syntax\n"
          ]
        }
      ]
    },
    {
      "cell_type": "code",
      "metadata": {
        "id": "cFwd2-bCOrBN",
        "colab_type": "code",
        "colab": {
          "base_uri": "https://localhost:8080/",
          "height": 36
        },
        "outputId": "940cba0d-e6a1-4f37-cda6-5493d3301120"
      },
      "source": [
        "food = \"Python's favorite food is perl\"\n",
        "food"
      ],
      "execution_count": 4,
      "outputs": [
        {
          "output_type": "execute_result",
          "data": {
            "text/plain": [
              "\"Python's favorite food is perl\""
            ]
          },
          "metadata": {
            "tags": []
          },
          "execution_count": 4
        }
      ]
    },
    {
      "cell_type": "code",
      "metadata": {
        "id": "yFR-OQWHOCNX",
        "colab_type": "code",
        "colab": {
          "base_uri": "https://localhost:8080/",
          "height": 36
        },
        "outputId": "a980c9d6-6787-46b1-98d5-5e2484611ed4"
      },
      "source": [
        "say = '\"Python is very easy.\" he says.'\n",
        "say "
      ],
      "execution_count": 5,
      "outputs": [
        {
          "output_type": "execute_result",
          "data": {
            "text/plain": [
              "'\"Python is very easy.\" he says.'"
            ]
          },
          "metadata": {
            "tags": []
          },
          "execution_count": 5
        }
      ]
    },
    {
      "cell_type": "code",
      "metadata": {
        "id": "XacbbeerPPUl",
        "colab_type": "code",
        "colab": {
          "base_uri": "https://localhost:8080/",
          "height": 92
        },
        "outputId": "3569d6ce-e189-4d4e-ab8d-defcc6e5d0be"
      },
      "source": [
        "print(\"문자열: \\ 이용\")\n",
        "food = 'Python\\'s favorite food is perl'\n",
        "say = \"\\\"Python is very easy.\\\" he says.\"\n",
        "print(food)\n",
        "print(say)\n",
        "say"
      ],
      "execution_count": 7,
      "outputs": [
        {
          "output_type": "stream",
          "text": [
            "문자열: \\ 이용\n",
            "Python's favorite food is perl\n",
            "\"Python is very easy.\" he says.\n"
          ],
          "name": "stdout"
        },
        {
          "output_type": "execute_result",
          "data": {
            "text/plain": [
              "'\"Python is very easy.\" he says.'"
            ]
          },
          "metadata": {
            "tags": []
          },
          "execution_count": 7
        }
      ]
    },
    {
      "cell_type": "markdown",
      "metadata": {
        "id": "SMpQBujZQbpV",
        "colab_type": "text"
      },
      "source": [
        "### 이스케이프 코드를 사용한 출력"
      ]
    },
    {
      "cell_type": "code",
      "metadata": {
        "id": "kIMp6ccjPk18",
        "colab_type": "code",
        "colab": {
          "base_uri": "https://localhost:8080/",
          "height": 73
        },
        "outputId": "5c7fa3ef-0ee1-4738-e09d-dbfdc74289c3"
      },
      "source": [
        "# 이스케이프 코드\n",
        "print(\"문자열: 이스케이프 코드 이용\")\n",
        "multiline = \"Life is too short\\nYou need python\"\n",
        "#multiline\n",
        "print(multiline)"
      ],
      "execution_count": 9,
      "outputs": [
        {
          "output_type": "stream",
          "text": [
            "문자열: 이스케이프 코드 이용\n",
            "Life is too short\n",
            "You need python\n"
          ],
          "name": "stdout"
        }
      ]
    },
    {
      "cell_type": "markdown",
      "metadata": {
        "id": "KVy6VycwRMb3",
        "colab_type": "text"
      },
      "source": [
        "### 여러줄 문자열 처리\n",
        "- \"\"\" .... \"\"\"\n",
        "- ''' .... '''"
      ]
    },
    {
      "cell_type": "code",
      "metadata": {
        "id": "dOPRU9SuQuXE",
        "colab_type": "code",
        "colab": {
          "base_uri": "https://localhost:8080/",
          "height": 223
        },
        "outputId": "365a490e-9347-41f7-b484-01c6163f011e"
      },
      "source": [
        "# 여러줄 문자열 처리\n",
        "multiline = '''\n",
        "... Life is too short\n",
        "... You need python\n",
        "... '''\n",
        "multiline2 = \"\"\"\n",
        "인생은 짧고,\n",
        "파이썬은 필요하다.\n",
        "\"\"\"\n",
        "multiline3 = \"\"\"인생은 짧고,\n",
        "파이썬은 필요하다.\n",
        "\"\"\"\n",
        "\n",
        "print(multiline)\n",
        "print(multiline2)\n",
        "print(multiline3)"
      ],
      "execution_count": 14,
      "outputs": [
        {
          "output_type": "stream",
          "text": [
            "\n",
            "Life is too short\n",
            "You need python\n",
            "\n",
            "\n",
            "인생은 짧고,\n",
            "파이썬은 필요하다.\n",
            "\n",
            "인생은 짧고,\n",
            "파이썬은 필요하다.\n",
            "\n"
          ],
          "name": "stdout"
        }
      ]
    },
    {
      "cell_type": "markdown",
      "metadata": {
        "id": "lB5YocofSh-J",
        "colab_type": "text"
      },
      "source": [
        "### 문자열 연산"
      ]
    },
    {
      "cell_type": "code",
      "metadata": {
        "id": "sRjxiOmKRnE8",
        "colab_type": "code",
        "colab": {
          "base_uri": "https://localhost:8080/",
          "height": 55
        },
        "outputId": "2c3e23b5-89bc-40fd-9f71-6798891d25f5"
      },
      "source": [
        "################################################\n",
        "print(\"문자열 연산: 더하기\")\n",
        "head = \"Python\"\n",
        "tail = \" is fun!\"\n",
        "head + tail\n"
      ],
      "execution_count": 15,
      "outputs": [
        {
          "output_type": "stream",
          "text": [
            "문자열 연산: 더하기\n"
          ],
          "name": "stdout"
        },
        {
          "output_type": "execute_result",
          "data": {
            "text/plain": [
              "'Python is fun!'"
            ]
          },
          "metadata": {
            "tags": []
          },
          "execution_count": 15
        }
      ]
    },
    {
      "cell_type": "code",
      "metadata": {
        "id": "WNim1qHFSsq2",
        "colab_type": "code",
        "colab": {
          "base_uri": "https://localhost:8080/",
          "height": 55
        },
        "outputId": "755d4c8b-3777-475a-d90e-63d57fd872e5"
      },
      "source": [
        "print(\"문자열 연산: 곱하기\")\n",
        "a = \"python\"\n",
        "a * 2"
      ],
      "execution_count": 16,
      "outputs": [
        {
          "output_type": "stream",
          "text": [
            "문자열 연산: 곱하기\n"
          ],
          "name": "stdout"
        },
        {
          "output_type": "execute_result",
          "data": {
            "text/plain": [
              "'pythonpython'"
            ]
          },
          "metadata": {
            "tags": []
          },
          "execution_count": 16
        }
      ]
    },
    {
      "cell_type": "code",
      "metadata": {
        "id": "Zx4imWReS-ek",
        "colab_type": "code",
        "colab": {
          "base_uri": "https://localhost:8080/",
          "height": 73
        },
        "outputId": "5779fadd-2279-4d12-82fe-89d69647ece0"
      },
      "source": [
        "\n",
        "#####################################\n",
        "# multistring.py\n",
        "print(\"=\" * 50)\n",
        "print(\"I am now coding Python!\")\n",
        "print(\"*\" * 50)\n",
        "#####################################\n"
      ],
      "execution_count": 18,
      "outputs": [
        {
          "output_type": "stream",
          "text": [
            "==================================================\n",
            "I am now coding Python!\n",
            "**************************************************\n"
          ],
          "name": "stdout"
        }
      ]
    },
    {
      "cell_type": "code",
      "metadata": {
        "id": "HQPctQ-pTJw-",
        "colab_type": "code",
        "colab": {
          "base_uri": "https://localhost:8080/",
          "height": 55
        },
        "outputId": "d72cec46-5150-43a8-8f08-32e68bd41538"
      },
      "source": [
        "# 내장함수: len()\n",
        "print(\"문자열 연산: 길이 구하기 - len()\")\n",
        "a = \"Life is too short.\"\n",
        "len(a)"
      ],
      "execution_count": 20,
      "outputs": [
        {
          "output_type": "stream",
          "text": [
            "문자열 연산: 길이 구하기 - len()\n"
          ],
          "name": "stdout"
        },
        {
          "output_type": "execute_result",
          "data": {
            "text/plain": [
              "18"
            ]
          },
          "metadata": {
            "tags": []
          },
          "execution_count": 20
        }
      ]
    },
    {
      "cell_type": "markdown",
      "metadata": {
        "id": "BBrL9mc2T4bo",
        "colab_type": "text"
      },
      "source": [
        "### 문자열 인덱싱, 슬라이싱"
      ]
    },
    {
      "cell_type": "code",
      "metadata": {
        "id": "iAuTXTkzTiAH",
        "colab_type": "code",
        "colab": {
          "base_uri": "https://localhost:8080/",
          "height": 92
        },
        "outputId": "d33499b4-2cb5-4816-aec4-500554723514"
      },
      "source": [
        "#####################################\n",
        "#\n",
        "# 문자열 인덱싱과 슬라이싱\n",
        "#\n",
        "#####################################\n",
        "print(\"문자열: 인덱싱이란?\")\n",
        "a = \"Life is too short, You need Python\"\n",
        "print(a[3])\n",
        "print(a[15])\n",
        "print(a[23])"
      ],
      "execution_count": 23,
      "outputs": [
        {
          "output_type": "stream",
          "text": [
            "문자열: 인덱싱이란?\n",
            "e\n",
            "r\n",
            "u\n"
          ],
          "name": "stdout"
        }
      ]
    },
    {
      "cell_type": "code",
      "metadata": {
        "id": "Qgp2GNHnUJSs",
        "colab_type": "code",
        "colab": {
          "base_uri": "https://localhost:8080/",
          "height": 55
        },
        "outputId": "8819e5d1-191b-45d7-dafa-3916b3fb0627"
      },
      "source": [
        "# \"파이썬은 0부터 숫자를 센다.\"\n",
        "print(\"문자열: 인덱싱 활용\")\n",
        "\n",
        "a = \"Life is too short, You need Python\"\n",
        "# a[0] # L\n",
        "\n",
        "# a[12] # s\n",
        "\n",
        "# a[-1] #n\n",
        "\n",
        "# a[-0]\n",
        "a[-2] # o\n",
        "# a[-5]\n",
        "# a[-12]"
      ],
      "execution_count": 24,
      "outputs": [
        {
          "output_type": "stream",
          "text": [
            "문자열: 인덱싱 활용\n"
          ],
          "name": "stdout"
        },
        {
          "output_type": "execute_result",
          "data": {
            "text/plain": [
              "'o'"
            ]
          },
          "metadata": {
            "tags": []
          },
          "execution_count": 24
        }
      ]
    },
    {
      "cell_type": "code",
      "metadata": {
        "id": "p1bNLRnKVSrZ",
        "colab_type": "code",
        "colab": {
          "base_uri": "https://localhost:8080/",
          "height": 55
        },
        "outputId": "08647e51-3fef-4767-b4c9-dea8c9aa4970"
      },
      "source": [
        "#####################################\n",
        "print(\"문자열: 슬라이싱이란?\")\n",
        "a = \"Life is too short, You need Python\"\n",
        "# Life 를 뽑아낼려면 어떻게?\n",
        "b = a[0] + a[1] + a[2] + a[3]  # 문자열 뎌하기 연산 \"L\", \"i\"\n",
        "b"
      ],
      "execution_count": 25,
      "outputs": [
        {
          "output_type": "stream",
          "text": [
            "문자열: 슬라이싱이란?\n"
          ],
          "name": "stdout"
        },
        {
          "output_type": "execute_result",
          "data": {
            "text/plain": [
              "'Life'"
            ]
          },
          "metadata": {
            "tags": []
          },
          "execution_count": 25
        }
      ]
    },
    {
      "cell_type": "code",
      "metadata": {
        "id": "-roL_NytV4EE",
        "colab_type": "code",
        "colab": {
          "base_uri": "https://localhost:8080/",
          "height": 36
        },
        "outputId": "673ca941-84a9-4aab-bd85-103ab74a0302"
      },
      "source": [
        "# slicing (슬라이싱)\n",
        "a[0:4]  # 0 <= index < 4\n"
      ],
      "execution_count": 26,
      "outputs": [
        {
          "output_type": "execute_result",
          "data": {
            "text/plain": [
              "'Life'"
            ]
          },
          "metadata": {
            "tags": []
          },
          "execution_count": 26
        }
      ]
    },
    {
      "cell_type": "code",
      "metadata": {
        "id": "bzRPekjBWPGQ",
        "colab_type": "code",
        "colab": {
          "base_uri": "https://localhost:8080/",
          "height": 55
        },
        "outputId": "4aa5fdd2-86de-4f0c-f609-c47329816418"
      },
      "source": [
        "a[0:5]\n",
        "print(a[5:7])\n",
        "print(a[12:17])"
      ],
      "execution_count": 27,
      "outputs": [
        {
          "output_type": "stream",
          "text": [
            "is\n",
            "short\n"
          ],
          "name": "stdout"
        }
      ]
    },
    {
      "cell_type": "code",
      "metadata": {
        "id": "L3VCQ8pYWyUv",
        "colab_type": "code",
        "colab": {
          "base_uri": "https://localhost:8080/",
          "height": 73
        },
        "outputId": "848aed64-35b7-46a1-a77a-e71924b3e6de"
      },
      "source": [
        "# : 의 사용\n",
        "print(a[:4])\n",
        "print(a[19:])\n",
        "print(a[:17])"
      ],
      "execution_count": 28,
      "outputs": [
        {
          "output_type": "stream",
          "text": [
            "Life\n",
            "You need Python\n",
            "Life is too short\n"
          ],
          "name": "stdout"
        }
      ]
    },
    {
      "cell_type": "markdown",
      "metadata": {
        "id": "l4_-icCWXV8g",
        "colab_type": "text"
      },
      "source": [
        "# 여기까지 배움."
      ]
    },
    {
      "cell_type": "code",
      "metadata": {
        "id": "Jx6AHafaWdLK",
        "colab_type": "code",
        "colab": {}
      },
      "source": [
        "\n",
        "a[:]\n",
        "\n",
        "# a[19:-7] ?\n",
        "a[19:-7]\n",
        "\n",
        "print(\"문자열: 슬라이싱 응용?\")\n",
        "a = \"20190909Sunny\"\n",
        "date = a[:8]\n",
        "weather = a[8:]\n",
        "date\n",
        "weather\n",
        "\n",
        "a = \"20190917Rainy\"\n",
        "year = a[:4]\n",
        "day = a[4:8]\n",
        "weather = a[8:]\n",
        "year,day,weather\n",
        "\n",
        "# \"Pithon\"이라는 문자열을 \"Python\"으로 바꾸려면?\n",
        "a = \"Pithon\"\n",
        "a[1]\n",
        "a[1] = 'y'  # Error (immutable한 자료형)\n",
        "#################\n",
        "a = \"Pithon\"\n",
        "a[:1]\n",
        "a[2:]\n",
        "a[:1] + 'y' + a[2:]  # Python\n"
      ],
      "execution_count": 0,
      "outputs": []
    },
    {
      "cell_type": "code",
      "metadata": {
        "id": "0_aoWauTEjRR",
        "colab_type": "code",
        "colab": {}
      },
      "source": [
        "# ch2_03_string_formating.py\n",
        "\n",
        "print(\"문자열: 포매팅이란?\")\n",
        "# 1. 숫자 바로 대입\n",
        "\"I eat %d apples.\" % 3\n",
        "\n",
        "# 2. 문자열 바로 대입\n",
        "\"I eat %s apples.\" % \"five\"\n",
        "\n",
        "# 3. 숫자 값을 나타내는 변수로 대입\n",
        "number = 3\n",
        "\"I eat %d apples.\" % number\n",
        "\n",
        "# 4. 2개 이상의 값 넣기\n",
        "number = 10\n",
        "day = \"three\"\n",
        "\"I ate %d apples. so I was sick for %s days.\" % number  # , day   # Error\n",
        "\"I ate %d apples. so I was sick for %s days.\" % (number, day)\n",
        "# 소괄호 안에 콤마(,)로 구분하여 각각의 값을 넣어 준다.\n",
        "\n",
        "print(\"문자열: 포맷 코드\")\n",
        "# %d, %s, %c, %f, %o, %x, %%\n",
        "# %s, 묵시적 형변환\n",
        "\"I have %s apples\" % 3\n",
        "\"rate is %s\" % 3.234\n",
        "\n",
        "\"Error is %d%.\" % 98\n",
        "\"Error is %d%%.\" % 98\n",
        "\n",
        "###############################################-p60\n",
        "print(\"문자열: 포맷 코드와 숫자 함께 사용하기\")\n",
        "# 1. 정렬과 공백\n",
        "\"%10s\" % \"hi\"\n",
        "\"%-10sjane.\" % \"hi\"\n",
        "# 2. 소수점 표현하기\n",
        "\"%0.4f\" % 3.42134234\n",
        "\"%10.4f\" % 3.42134234\n",
        "\n",
        "print(\"문자열: format 함수를 사용한 포매팅\")\n",
        "# 1. 숫자 바로 대입하기\n",
        "\"I eat {0} apples\".format(3)\n",
        "\"I eat {0} {1} apples\".format(3, 4)\n",
        "\n",
        "# 2. 문자열 바로 대입하기\n",
        "\"I eat {0} apples\".format(\"five\")\n",
        "\"I eat {0} apples from {1} boxes\".format(\"five\", \"three\")\n",
        "\n",
        "# 3. 숫자 값을 가진 변수로 대입하기\n",
        "number = 3\n",
        "\"I eat {0} apples\".format(number)\n",
        "\"I eat {0} apples\".format(number + 1)\n",
        "\n",
        "# 2개 이상의 값 넣기\n",
        "number = 10\n",
        "day = \"three\"\n",
        "\"I ate {0} apples. so I was sick for {1} days.\".format(number, day)\n",
        "# 이름으로 넣기\n",
        "\"I ate {number} apples. so I was sick for {day} days.\".format(number=10, day=3)\n",
        "# 인덱스와 이름을 혼용해서 넣기\n",
        "\"I ate {0} apples. so I was sick for {day} days.\".format(10, day=3)\n",
        "#\n",
        "######################################\n",
        "# 왼쪽 정렬/ 오른쪽 정렬\n",
        "\"{0:<10}\".format(\"hi\")\n",
        "\"{0:>10}\".format(\"hi\")\n",
        "# 가운데 정렬\n",
        "\"{0:^10}\".format(\"hi\")\n",
        "# 공백 채우기\n",
        "\"{0:=^10}\".format(\"hi\")\n",
        "\"{0:!<10}\".format(\"hi\")\n",
        "# 도전하기\n",
        "# \"{0:<10}{1:>10}\".format(\"hi\",'hcit')\n",
        "\n",
        "#########################################\n",
        "\n",
        "# 소수점 표현하기\n",
        "y = 3.42134234\n",
        "\"{0:0.4f}\".format(y)\n",
        "\"{0:10.4f}\".format(y)\n",
        "# { 또는 } 문자 표현하기\n",
        "\"{{ and }}\".format()\n",
        "\n",
        "##########################\n",
        "##### f 문자열 포매팅 #####\n",
        "##### .format() 대체\n",
        "##########################\n",
        "print(\"문자열: f 문자열 포매팅\")\n",
        "name = \"홍길동\"\n",
        "age = 30\n",
        "f\"나의 이름은 {name}입니다. 나이는 {age}입니다.\"\n",
        "\n",
        "age = 30\n",
        "f\"나는 내년이면 {age+1}살이 된다.\"\n",
        "\n",
        "# 딕셔너리는 f 문자열 포매팅에서 다음과 같이 사용\n",
        "d = {\"name\": \"홍길동\", \"age\": 30}\n",
        "f'나의 이름은 {d[\"name\"]}입니다. 나이는 {d[\"age\"]}입니다.'\n",
        "# 정렬\n",
        "f'{\"hi\":<10}'  # 왼쪽 정렬\n",
        "f'{\"hi\":>10}'  # 오른쪽 정렬\n",
        "f'{\"hi\":^10}'  # 가운데 정렬\n",
        "# 공백 채우기\n",
        "y = 3.42134234\n",
        "f\"{y:0.4f}\"  # 소수점 4자리까지만 표현\n",
        "f\"{y:10.4f}\"  # 소수점 4자리까지 표현하고 총 자리수를 10으로 맞춤\n",
        "# { } 문자를 표시\n",
        "f\"{{ and }}\"\n",
        "\n",
        "##############################################\n",
        "print(\"문자열: 관련 내장 함수들\")\n",
        "# 문자 개수 세기(count)\n",
        "a = \"hobby\"\n",
        "a.count(\"b\")\n",
        "# 위치 알려주기1(find)\n",
        "a = \"Python is the best choice\"\n",
        "a.find(\"b\")\n",
        "a.find(\"k\")  # what value?\n",
        "# 위치 알려주기2(index)\n",
        "a = \"Life is too short\"\n",
        "a.index(\"t\")\n",
        "a.index(\"k\")\n",
        "\n",
        "# 문자열 삽입(join)\n",
        "\",\".join(\"abcd\")\n",
        "\",\".join([\"a\", \"b\", \"c\", \"d\"])\n",
        "# 소문자를 대문자로 바꾸기(upper)\n",
        "a = \"hi\"\n",
        "a.upper()\n",
        "# 대문자를 소문자로 바꾸기(lower)\n",
        "a = \"IoT\"\n",
        "a.lower()\n",
        "# 왼쪽 공백 지우기(lstrip)\n",
        "a = \" hi \"\n",
        "a.lstrip()\n",
        "# 오른쪽 공백 지우기(rstrip)\n",
        "a.rstrip()\n",
        "# 양쪽 공백 지우기(strip)\n",
        "a.strip()\n",
        "# 문자열 바꾸기(replace)\n",
        "a = \"Life is too short\"\n",
        "a.replace(\"Life\", \"Your leg\")\n",
        "\n",
        "# 문자열 나누기(split) -> 리스트로 변환하여 반환\n",
        "a = \"Life is too short\"\n",
        "a.split()\n",
        "b = \"a:b:c:d\"\n",
        "b.split(\":\")\n",
        "\n",
        "#### 도전하기 #####\n",
        "# format 함수 또는 f 문자열 포매팅을 이용해서 '!!!python!!!' 문자열을 출력해보시오.\n",
        "\"{0:!^12}\".format(\"python\")\n",
        "f'{\"python\":!^12}'\n"
      ],
      "execution_count": 0,
      "outputs": []
    }
  ]
}